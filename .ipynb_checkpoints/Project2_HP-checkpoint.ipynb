{
 "cells": [
  {
   "cell_type": "code",
   "execution_count": 3,
   "metadata": {},
   "outputs": [],
   "source": [
    "import numpy as np\n",
    "import pandas as pd\n",
    "%matplotlib inline\n",
    "from matplotlib import style\n",
    "style.use('fivethirtyeight')\n",
    "import matplotlib.pyplot as plt\n",
    "import datetime as dt"
   ]
  },
  {
   "cell_type": "code",
   "execution_count": 4,
   "metadata": {},
   "outputs": [],
   "source": [
    "# Python SQL toolkit and Object Relational Mapper\n",
    "import sqlalchemy\n",
    "from sqlalchemy.ext.automap import automap_base\n",
    "from sqlalchemy.orm import Session\n",
    "from sqlalchemy import create_engine, func, inspect"
   ]
  },
  {
   "cell_type": "code",
   "execution_count": 7,
   "metadata": {},
   "outputs": [
    {
     "name": "stdout",
     "output_type": "stream",
     "text": [
      "Date\n",
      "RegionName\n",
      "InventorySeasonallyAdjusted_AllHomes\n",
      "InventoryRaw_AllHomes\n",
      "MedianListingPricePerSqft_1Bedroom\n",
      "MedianListingPricePerSqft_2Bedroom\n",
      "MedianListingPricePerSqft_3Bedroom\n",
      "MedianListingPricePerSqft_4Bedroom\n",
      "MedianListingPricePerSqft_5BedroomOrMore\n",
      "MedianListingPricePerSqft_AllHomes\n",
      "MedianListingPricePerSqft_CondoCoop\n",
      "MedianListingPricePerSqft_DuplexTriplex\n",
      "MedianListingPricePerSqft_SingleFamilyResidence\n",
      "MedianListingPrice_1Bedroom\n",
      "MedianListingPrice_2Bedroom\n",
      "MedianListingPrice_3Bedroom\n",
      "MedianListingPrice_4Bedroom\n",
      "MedianListingPrice_5BedroomOrMore\n",
      "MedianListingPrice_AllHomes\n",
      "MedianListingPrice_CondoCoop\n",
      "MedianListingPrice_DuplexTriplex\n",
      "MedianListingPrice_SingleFamilyResidence\n",
      "MedianPctOfPriceReduction_AllHomes\n",
      "MedianPctOfPriceReduction_CondoCoop\n",
      "MedianPctOfPriceReduction_SingleFamilyResidence\n",
      "MedianPriceCutDollar_AllHomes\n",
      "MedianPriceCutDollar_CondoCoop\n",
      "MedianPriceCutDollar_SingleFamilyResidence\n",
      "MedianRentalPricePerSqft_1Bedroom\n",
      "MedianRentalPricePerSqft_2Bedroom\n",
      "MedianRentalPricePerSqft_3Bedroom\n",
      "MedianRentalPricePerSqft_4Bedroom\n",
      "MedianRentalPricePerSqft_5BedroomOrMore\n",
      "MedianRentalPricePerSqft_AllHomes\n",
      "MedianRentalPricePerSqft_CondoCoop\n",
      "MedianRentalPricePerSqft_DuplexTriplex\n",
      "MedianRentalPricePerSqft_MultiFamilyResidence5PlusUnits\n",
      "MedianRentalPricePerSqft_SingleFamilyResidence\n",
      "MedianRentalPricePerSqft_Studio\n",
      "MedianRentalPrice_1Bedroom\n",
      "MedianRentalPrice_2Bedroom\n",
      "MedianRentalPrice_3Bedroom\n",
      "MedianRentalPrice_4Bedroom\n",
      "MedianRentalPrice_5BedroomOrMore\n",
      "MedianRentalPrice_AllHomes\n",
      "MedianRentalPrice_CondoCoop\n",
      "MedianRentalPrice_DuplexTriplex\n",
      "MedianRentalPrice_MultiFamilyResidence5PlusUnits\n",
      "MedianRentalPrice_SingleFamilyResidence\n",
      "MedianRentalPrice_Studio\n",
      "ZHVIPerSqft_AllHomes\n",
      "PctOfHomesDecreasingInValues_AllHomes\n",
      "PctOfHomesIncreasingInValues_AllHomes\n",
      "PctOfHomesSellingForGain_AllHomes\n",
      "PctOfHomesSellingForLoss_AllHomes\n",
      "PctOfListingsWithPriceReductionsSeasAdj_AllHomes\n",
      "PctOfListingsWithPriceReductionsSeasAdj_CondoCoop\n",
      "PctOfListingsWithPriceReductionsSeasAdj_SingleFamilyResidence\n",
      "PctOfListingsWithPriceReductions_AllHomes\n",
      "PctOfListingsWithPriceReductions_CondoCoop\n",
      "PctOfListingsWithPriceReductions_SingleFamilyResidence\n",
      "PriceToRentRatio_AllHomes\n",
      "Sale_Counts\n",
      "Sale_Counts_Seas_Adj\n",
      "Sale_Prices\n",
      "ZHVI_1bedroom\n",
      "ZHVI_2bedroom\n",
      "ZHVI_3bedroom\n",
      "ZHVI_4bedroom\n",
      "ZHVI_5BedroomOrMore\n",
      "ZHVI_AllHomes\n",
      "ZHVI_BottomTier\n",
      "ZHVI_CondoCoop\n",
      "ZHVI_MiddleTier\n",
      "ZHVI_SingleFamilyResidence\n",
      "ZHVI_TopTier\n",
      "ZRI_AllHomes\n",
      "ZRI_AllHomesPlusMultifamily\n",
      "ZriPerSqft_AllHomes\n",
      "Zri_MultiFamilyResidenceRental\n",
      "Zri_SingleFamilyResidenceRental\n"
     ]
    }
   ],
   "source": [
    "data=pd.read_csv(\"city.csv\")\n",
    "data.head(5)\n",
    "for col in data.columns:\n",
    "    print(col)"
   ]
  },
  {
   "cell_type": "code",
   "execution_count": 9,
   "metadata": {},
   "outputs": [
    {
     "ename": "KeyError",
     "evalue": "('ZHVIPerSqft_AllHomes', 'ZHVI_1bedroom', 'ZHVI_2bedroom', 'ZHVI_3bedroom', 'ZHVI_4bedroom', 'ZHVI_5BedroomOrMore', 'ZHVI_AllHomes', 'ZHVI_BottomTier', 'ZHVI_CondoCoop', 'ZHVI_MiddleTier', 'ZHVI_SingleFamilyResidence', 'PctOfHomesDecreasingInValues_AllHomes', 'PctOfHomesIncreasingInValues_AllHomes', 'PctOfHomesSellingForGain_AllHomes', 'ZHVI_TopTier')",
     "output_type": "error",
     "traceback": [
      "\u001b[1;31m---------------------------------------------------------------------------\u001b[0m",
      "\u001b[1;31mKeyError\u001b[0m                                  Traceback (most recent call last)",
      "\u001b[1;32m~\\anaconda\\Anaconda3\\lib\\site-packages\\pandas\\core\\indexes\\base.py\u001b[0m in \u001b[0;36mget_loc\u001b[1;34m(self, key, method, tolerance)\u001b[0m\n\u001b[0;32m   2656\u001b[0m             \u001b[1;32mtry\u001b[0m\u001b[1;33m:\u001b[0m\u001b[1;33m\u001b[0m\u001b[1;33m\u001b[0m\u001b[0m\n\u001b[1;32m-> 2657\u001b[1;33m                 \u001b[1;32mreturn\u001b[0m \u001b[0mself\u001b[0m\u001b[1;33m.\u001b[0m\u001b[0m_engine\u001b[0m\u001b[1;33m.\u001b[0m\u001b[0mget_loc\u001b[0m\u001b[1;33m(\u001b[0m\u001b[0mkey\u001b[0m\u001b[1;33m)\u001b[0m\u001b[1;33m\u001b[0m\u001b[1;33m\u001b[0m\u001b[0m\n\u001b[0m\u001b[0;32m   2658\u001b[0m             \u001b[1;32mexcept\u001b[0m \u001b[0mKeyError\u001b[0m\u001b[1;33m:\u001b[0m\u001b[1;33m\u001b[0m\u001b[1;33m\u001b[0m\u001b[0m\n",
      "\u001b[1;32mpandas/_libs/index.pyx\u001b[0m in \u001b[0;36mpandas._libs.index.IndexEngine.get_loc\u001b[1;34m()\u001b[0m\n",
      "\u001b[1;32mpandas/_libs/index.pyx\u001b[0m in \u001b[0;36mpandas._libs.index.IndexEngine.get_loc\u001b[1;34m()\u001b[0m\n",
      "\u001b[1;32mpandas/_libs/hashtable_class_helper.pxi\u001b[0m in \u001b[0;36mpandas._libs.hashtable.PyObjectHashTable.get_item\u001b[1;34m()\u001b[0m\n",
      "\u001b[1;32mpandas/_libs/hashtable_class_helper.pxi\u001b[0m in \u001b[0;36mpandas._libs.hashtable.PyObjectHashTable.get_item\u001b[1;34m()\u001b[0m\n",
      "\u001b[1;31mKeyError\u001b[0m: ('ZHVIPerSqft_AllHomes', 'ZHVI_1bedroom', 'ZHVI_2bedroom', 'ZHVI_3bedroom', 'ZHVI_4bedroom', 'ZHVI_5BedroomOrMore', 'ZHVI_AllHomes', 'ZHVI_BottomTier', 'ZHVI_CondoCoop', 'ZHVI_MiddleTier', 'ZHVI_SingleFamilyResidence', 'PctOfHomesDecreasingInValues_AllHomes', 'PctOfHomesIncreasingInValues_AllHomes', 'PctOfHomesSellingForGain_AllHomes', 'ZHVI_TopTier')",
      "\nDuring handling of the above exception, another exception occurred:\n",
      "\u001b[1;31mKeyError\u001b[0m                                  Traceback (most recent call last)",
      "\u001b[1;32m<ipython-input-9-df791d55e372>\u001b[0m in \u001b[0;36m<module>\u001b[1;34m\u001b[0m\n\u001b[1;32m----> 1\u001b[1;33m new_data=data['ZHVIPerSqft_AllHomes','ZHVI_1bedroom','ZHVI_2bedroom',\n\u001b[0m\u001b[0;32m      2\u001b[0m             \u001b[1;34m'ZHVI_3bedroom'\u001b[0m\u001b[1;33m,\u001b[0m\u001b[1;34m'ZHVI_4bedroom'\u001b[0m\u001b[1;33m,\u001b[0m\u001b[1;34m'ZHVI_5BedroomOrMore'\u001b[0m\u001b[1;33m,\u001b[0m\u001b[1;33m\u001b[0m\u001b[1;33m\u001b[0m\u001b[0m\n\u001b[0;32m      3\u001b[0m             \u001b[1;34m'ZHVI_AllHomes'\u001b[0m\u001b[1;33m,\u001b[0m\u001b[1;34m'ZHVI_BottomTier'\u001b[0m\u001b[1;33m,\u001b[0m\u001b[1;34m'ZHVI_CondoCoop'\u001b[0m\u001b[1;33m,\u001b[0m\u001b[1;34m'ZHVI_MiddleTier'\u001b[0m\u001b[1;33m,\u001b[0m\u001b[1;33m\u001b[0m\u001b[1;33m\u001b[0m\u001b[0m\n\u001b[0;32m      4\u001b[0m             \u001b[1;34m'ZHVI_SingleFamilyResidence'\u001b[0m\u001b[1;33m,\u001b[0m\u001b[1;34m'PctOfHomesDecreasingInValues_AllHomes'\u001b[0m\u001b[1;33m,\u001b[0m\u001b[1;33m\u001b[0m\u001b[1;33m\u001b[0m\u001b[0m\n\u001b[0;32m      5\u001b[0m             \u001b[1;34m'PctOfHomesIncreasingInValues_AllHomes'\u001b[0m\u001b[1;33m,\u001b[0m\u001b[1;34m'PctOfHomesSellingForGain_AllHomes'\u001b[0m\u001b[1;33m,\u001b[0m\u001b[1;33m\u001b[0m\u001b[1;33m\u001b[0m\u001b[0m\n",
      "\u001b[1;32m~\\anaconda\\Anaconda3\\lib\\site-packages\\pandas\\core\\frame.py\u001b[0m in \u001b[0;36m__getitem__\u001b[1;34m(self, key)\u001b[0m\n\u001b[0;32m   2925\u001b[0m             \u001b[1;32mif\u001b[0m \u001b[0mself\u001b[0m\u001b[1;33m.\u001b[0m\u001b[0mcolumns\u001b[0m\u001b[1;33m.\u001b[0m\u001b[0mnlevels\u001b[0m \u001b[1;33m>\u001b[0m \u001b[1;36m1\u001b[0m\u001b[1;33m:\u001b[0m\u001b[1;33m\u001b[0m\u001b[1;33m\u001b[0m\u001b[0m\n\u001b[0;32m   2926\u001b[0m                 \u001b[1;32mreturn\u001b[0m \u001b[0mself\u001b[0m\u001b[1;33m.\u001b[0m\u001b[0m_getitem_multilevel\u001b[0m\u001b[1;33m(\u001b[0m\u001b[0mkey\u001b[0m\u001b[1;33m)\u001b[0m\u001b[1;33m\u001b[0m\u001b[1;33m\u001b[0m\u001b[0m\n\u001b[1;32m-> 2927\u001b[1;33m             \u001b[0mindexer\u001b[0m \u001b[1;33m=\u001b[0m \u001b[0mself\u001b[0m\u001b[1;33m.\u001b[0m\u001b[0mcolumns\u001b[0m\u001b[1;33m.\u001b[0m\u001b[0mget_loc\u001b[0m\u001b[1;33m(\u001b[0m\u001b[0mkey\u001b[0m\u001b[1;33m)\u001b[0m\u001b[1;33m\u001b[0m\u001b[1;33m\u001b[0m\u001b[0m\n\u001b[0m\u001b[0;32m   2928\u001b[0m             \u001b[1;32mif\u001b[0m \u001b[0mis_integer\u001b[0m\u001b[1;33m(\u001b[0m\u001b[0mindexer\u001b[0m\u001b[1;33m)\u001b[0m\u001b[1;33m:\u001b[0m\u001b[1;33m\u001b[0m\u001b[1;33m\u001b[0m\u001b[0m\n\u001b[0;32m   2929\u001b[0m                 \u001b[0mindexer\u001b[0m \u001b[1;33m=\u001b[0m \u001b[1;33m[\u001b[0m\u001b[0mindexer\u001b[0m\u001b[1;33m]\u001b[0m\u001b[1;33m\u001b[0m\u001b[1;33m\u001b[0m\u001b[0m\n",
      "\u001b[1;32m~\\anaconda\\Anaconda3\\lib\\site-packages\\pandas\\core\\indexes\\base.py\u001b[0m in \u001b[0;36mget_loc\u001b[1;34m(self, key, method, tolerance)\u001b[0m\n\u001b[0;32m   2657\u001b[0m                 \u001b[1;32mreturn\u001b[0m \u001b[0mself\u001b[0m\u001b[1;33m.\u001b[0m\u001b[0m_engine\u001b[0m\u001b[1;33m.\u001b[0m\u001b[0mget_loc\u001b[0m\u001b[1;33m(\u001b[0m\u001b[0mkey\u001b[0m\u001b[1;33m)\u001b[0m\u001b[1;33m\u001b[0m\u001b[1;33m\u001b[0m\u001b[0m\n\u001b[0;32m   2658\u001b[0m             \u001b[1;32mexcept\u001b[0m \u001b[0mKeyError\u001b[0m\u001b[1;33m:\u001b[0m\u001b[1;33m\u001b[0m\u001b[1;33m\u001b[0m\u001b[0m\n\u001b[1;32m-> 2659\u001b[1;33m                 \u001b[1;32mreturn\u001b[0m \u001b[0mself\u001b[0m\u001b[1;33m.\u001b[0m\u001b[0m_engine\u001b[0m\u001b[1;33m.\u001b[0m\u001b[0mget_loc\u001b[0m\u001b[1;33m(\u001b[0m\u001b[0mself\u001b[0m\u001b[1;33m.\u001b[0m\u001b[0m_maybe_cast_indexer\u001b[0m\u001b[1;33m(\u001b[0m\u001b[0mkey\u001b[0m\u001b[1;33m)\u001b[0m\u001b[1;33m)\u001b[0m\u001b[1;33m\u001b[0m\u001b[1;33m\u001b[0m\u001b[0m\n\u001b[0m\u001b[0;32m   2660\u001b[0m         \u001b[0mindexer\u001b[0m \u001b[1;33m=\u001b[0m \u001b[0mself\u001b[0m\u001b[1;33m.\u001b[0m\u001b[0mget_indexer\u001b[0m\u001b[1;33m(\u001b[0m\u001b[1;33m[\u001b[0m\u001b[0mkey\u001b[0m\u001b[1;33m]\u001b[0m\u001b[1;33m,\u001b[0m \u001b[0mmethod\u001b[0m\u001b[1;33m=\u001b[0m\u001b[0mmethod\u001b[0m\u001b[1;33m,\u001b[0m \u001b[0mtolerance\u001b[0m\u001b[1;33m=\u001b[0m\u001b[0mtolerance\u001b[0m\u001b[1;33m)\u001b[0m\u001b[1;33m\u001b[0m\u001b[1;33m\u001b[0m\u001b[0m\n\u001b[0;32m   2661\u001b[0m         \u001b[1;32mif\u001b[0m \u001b[0mindexer\u001b[0m\u001b[1;33m.\u001b[0m\u001b[0mndim\u001b[0m \u001b[1;33m>\u001b[0m \u001b[1;36m1\u001b[0m \u001b[1;32mor\u001b[0m \u001b[0mindexer\u001b[0m\u001b[1;33m.\u001b[0m\u001b[0msize\u001b[0m \u001b[1;33m>\u001b[0m \u001b[1;36m1\u001b[0m\u001b[1;33m:\u001b[0m\u001b[1;33m\u001b[0m\u001b[1;33m\u001b[0m\u001b[0m\n",
      "\u001b[1;32mpandas/_libs/index.pyx\u001b[0m in \u001b[0;36mpandas._libs.index.IndexEngine.get_loc\u001b[1;34m()\u001b[0m\n",
      "\u001b[1;32mpandas/_libs/index.pyx\u001b[0m in \u001b[0;36mpandas._libs.index.IndexEngine.get_loc\u001b[1;34m()\u001b[0m\n",
      "\u001b[1;32mpandas/_libs/hashtable_class_helper.pxi\u001b[0m in \u001b[0;36mpandas._libs.hashtable.PyObjectHashTable.get_item\u001b[1;34m()\u001b[0m\n",
      "\u001b[1;32mpandas/_libs/hashtable_class_helper.pxi\u001b[0m in \u001b[0;36mpandas._libs.hashtable.PyObjectHashTable.get_item\u001b[1;34m()\u001b[0m\n",
      "\u001b[1;31mKeyError\u001b[0m: ('ZHVIPerSqft_AllHomes', 'ZHVI_1bedroom', 'ZHVI_2bedroom', 'ZHVI_3bedroom', 'ZHVI_4bedroom', 'ZHVI_5BedroomOrMore', 'ZHVI_AllHomes', 'ZHVI_BottomTier', 'ZHVI_CondoCoop', 'ZHVI_MiddleTier', 'ZHVI_SingleFamilyResidence', 'PctOfHomesDecreasingInValues_AllHomes', 'PctOfHomesIncreasingInValues_AllHomes', 'PctOfHomesSellingForGain_AllHomes', 'ZHVI_TopTier')"
     ]
    }
   ],
   "source": [
    "new_data=data['ZHVIPerSqft_AllHomes','ZHVI_1bedroom','ZHVI_2bedroom',\n",
    "            'ZHVI_3bedroom','ZHVI_4bedroom','ZHVI_5BedroomOrMore',\n",
    "            'ZHVI_AllHomes','ZHVI_BottomTier','ZHVI_CondoCoop','ZHVI_MiddleTier',\n",
    "            'ZHVI_SingleFamilyResidence','PctOfHomesDecreasingInValues_AllHomes',\n",
    "            'PctOfHomesIncreasingInValues_AllHomes','PctOfHomesSellingForGain_AllHomes',\n",
    "            'ZHVI_TopTier']\n"
   ]
  },
  {
   "cell_type": "code",
   "execution_count": null,
   "metadata": {},
   "outputs": [],
   "source": []
  },
  {
   "cell_type": "code",
   "execution_count": null,
   "metadata": {},
   "outputs": [],
   "source": []
  }
 ],
 "metadata": {
  "kernelspec": {
   "display_name": "Python 3",
   "language": "python",
   "name": "python3"
  },
  "language_info": {
   "codemirror_mode": {
    "name": "ipython",
    "version": 3
   },
   "file_extension": ".py",
   "mimetype": "text/x-python",
   "name": "python",
   "nbconvert_exporter": "python",
   "pygments_lexer": "ipython3",
   "version": "3.7.3"
  }
 },
 "nbformat": 4,
 "nbformat_minor": 2
}
