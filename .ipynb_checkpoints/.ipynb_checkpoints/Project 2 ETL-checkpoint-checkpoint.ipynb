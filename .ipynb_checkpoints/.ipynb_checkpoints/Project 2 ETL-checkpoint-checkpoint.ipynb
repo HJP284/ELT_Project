{
 "cells": [
  {
   "cell_type": "code",
   "execution_count": 2,
   "metadata": {},
   "outputs": [
    {
     "ename": "ModuleNotFoundError",
     "evalue": "No module named 'config'",
     "output_type": "error",
     "traceback": [
      "\u001b[1;31m---------------------------------------------------------------------------\u001b[0m",
      "\u001b[1;31mModuleNotFoundError\u001b[0m                       Traceback (most recent call last)",
      "\u001b[1;32m<ipython-input-2-2bc53e1a52fb>\u001b[0m in \u001b[0;36m<module>\u001b[1;34m\u001b[0m\n\u001b[0;32m     13\u001b[0m \u001b[1;33m\u001b[0m\u001b[0m\n\u001b[0;32m     14\u001b[0m \u001b[1;31m# Google  API key\u001b[0m\u001b[1;33m\u001b[0m\u001b[1;33m\u001b[0m\u001b[1;33m\u001b[0m\u001b[0m\n\u001b[1;32m---> 15\u001b[1;33m \u001b[1;32mfrom\u001b[0m \u001b[0mconfig\u001b[0m \u001b[1;32mimport\u001b[0m \u001b[0mgkey\u001b[0m\u001b[1;33m\u001b[0m\u001b[1;33m\u001b[0m\u001b[0m\n\u001b[0m\u001b[0;32m     16\u001b[0m \u001b[1;33m\u001b[0m\u001b[0m\n\u001b[0;32m     17\u001b[0m \u001b[0mgmaps\u001b[0m\u001b[1;33m.\u001b[0m\u001b[0mconfigure\u001b[0m\u001b[1;33m(\u001b[0m\u001b[0mapi_key\u001b[0m\u001b[1;33m=\u001b[0m\u001b[0mgkey\u001b[0m\u001b[1;33m)\u001b[0m\u001b[1;33m\u001b[0m\u001b[1;33m\u001b[0m\u001b[0m\n",
      "\u001b[1;31mModuleNotFoundError\u001b[0m: No module named 'config'"
     ]
    }
   ],
   "source": [
    "# Dependencies\n",
    "import requests\n",
    "import json\n",
    "import os\n",
    "import gmaps\n",
    "from pandas.io.json import json_normalize\n",
    "import numpy as np\n",
    "import pandas as pd\n",
    "import time\n",
    "from sqlalchemy import create_engine\n",
    "import io\n",
    "import psycopg2\n",
    "\n",
    "# Google  API key\n",
    "from config import gkey\n",
    "\n",
    "gmaps.configure(api_key=gkey)"
   ]
  },
  {
   "cell_type": "code",
   "execution_count": null,
   "metadata": {},
   "outputs": [],
   "source": [
    "# Getting a list of Nightclubs in San Francisco\n",
    "# We want to demostrate the use of APIs\n",
    "target_coordinates = \"37.7749,-122.4194\"\n",
    "target_search = \"Nightclub\"\n",
    "target_radius = 50000\n",
    "target_type = \"nightclub\"\n",
    "\n",
    "# Setting up parameters\n",
    "params = {\n",
    "    \"location\": target_coordinates,\n",
    "    \"keyword\": target_search,\n",
    "    \"radius\": target_radius,\n",
    "    \"type\": target_type,\n",
    "    \"key\": gkey\n",
    "}\n",
    "\n",
    "# base url\n",
    "base_url = \"https://maps.googleapis.com/maps/api/place/nearbysearch/json\"\n",
    "\n",
    "# run a request using our params dictionary\n",
    "response = requests.get(base_url, params=params)"
   ]
  },
  {
   "cell_type": "code",
   "execution_count": null,
   "metadata": {},
   "outputs": [],
   "source": [
    "# convert response to json\n",
    "sf_clubs = response.json()\n",
    "\n",
    "# Print the json (pretty printed)\n",
    "print(json.dumps(sf_clubs, indent=4, sort_keys=True))"
   ]
  },
  {
   "cell_type": "code",
   "execution_count": null,
   "metadata": {},
   "outputs": [],
   "source": [
    "print(len(sf_clubs[\"results\"]))"
   ]
  },
  {
   "cell_type": "code",
   "execution_count": null,
   "metadata": {},
   "outputs": [],
   "source": [
    "name=[]\n",
    "vicinity =[]\n",
    "lat = []\n",
    "lng =[]\n",
    "i= 0\n",
    "while i < 20:\n",
    "        name.append(sf_clubs[\"results\"][i][\"name\"])\n",
    "        vicinity.append((sf_clubs[\"results\"][i][\"vicinity\"]))\n",
    "        lat.append(sf_clubs[\"results\"][i]['geometry']['location']['lat'])\n",
    "        lng.append(sf_clubs[\"results\"][i]['geometry']['location']['lng'])\n",
    "        i+=1\n",
    "\n",
    "clubs_dict = {\n",
    "    \"Club Name\": name\n",
    "    , \"Address\": vicinity\n",
    "    , \"Latitude\": lat\n",
    "    , \"Longitude\": lng\n",
    "}\n",
    "clubs_data = pd.DataFrame(clubs_dict)\n",
    "clubs_data['Latitude'] = clubs_data['Latitude'].apply(lambda x: round(x, 3))\n",
    "clubs_data['Longitude'] = clubs_data['Longitude'].apply(lambda x: round(x, 3))\n",
    "clubs_data.head()"
   ]
  },
  {
   "cell_type": "code",
   "execution_count": null,
   "metadata": {},
   "outputs": [],
   "source": [
    "crime=pd.read_csv(\"sf_crime.csv\")"
   ]
  },
  {
   "cell_type": "code",
   "execution_count": null,
   "metadata": {},
   "outputs": [],
   "source": [
    "#Drop unncessary columns\n",
    "new_crime = crime[['Category', 'Descript', 'X', 'Y']]\n",
    "new_crime.columns = ['Category', 'Description', 'Longitude', 'Latitude']\n",
    "new_crime['Longitude'] = new_crime['Longitude'].apply(lambda x: round(x, 3))\n",
    "new_crime['Latitude'] = new_crime['Latitude'].apply(lambda x: round(x, 3))\n",
    "new_crime.head()"
   ]
  },
  {
   "cell_type": "code",
   "execution_count": null,
   "metadata": {
    "scrolled": true
   },
   "outputs": [],
   "source": [
    "combo_df = pd.merge(clubs_data, new_crime, how='left', left_on=['Latitude', 'Longitude'],right_on=['Latitude','Longitude'])\n",
    "combo_df"
   ]
  },
  {
   "cell_type": "code",
   "execution_count": null,
   "metadata": {},
   "outputs": [],
   "source": [
    "combo_df.to_csv('club_crime.csv')"
   ]
  }
 ],
 "metadata": {
  "kernelspec": {
   "display_name": "Python 3",
   "language": "python",
   "name": "python3"
  },
  "language_info": {
   "codemirror_mode": {
    "name": "ipython",
    "version": 3
   },
   "file_extension": ".py",
   "mimetype": "text/x-python",
   "name": "python",
   "nbconvert_exporter": "python",
   "pygments_lexer": "ipython3",
   "version": "3.7.3"
  }
 },
 "nbformat": 4,
 "nbformat_minor": 2
}
